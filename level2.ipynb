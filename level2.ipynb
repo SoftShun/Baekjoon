{
  "nbformat": 4,
  "nbformat_minor": 0,
  "metadata": {
    "colab": {
      "provenance": [],
      "authorship_tag": "ABX9TyOdNTaKta83Q/U+Ihj8UNgE",
      "include_colab_link": true
    },
    "kernelspec": {
      "name": "python3",
      "display_name": "Python 3"
    },
    "language_info": {
      "name": "python"
    }
  },
  "cells": [
    {
      "cell_type": "markdown",
      "metadata": {
        "id": "view-in-github",
        "colab_type": "text"
      },
      "source": [
        "<a href=\"https://colab.research.google.com/github/SoftShun/Baekjoon/blob/main/level2.ipynb\" target=\"_parent\"><img src=\"https://colab.research.google.com/assets/colab-badge.svg\" alt=\"Open In Colab\"/></a>"
      ]
    },
    {
      "cell_type": "markdown",
      "source": [
        "1330"
      ],
      "metadata": {
        "id": "sgGbixL01DPZ"
      }
    },
    {
      "cell_type": "code",
      "execution_count": 2,
      "metadata": {
        "colab": {
          "base_uri": "https://localhost:8080/"
        },
        "id": "EiATujtD00zs",
        "outputId": "248cc72e-a2ed-4a98-e2ac-b3d4d2305854"
      },
      "outputs": [
        {
          "output_type": "stream",
          "name": "stdout",
          "text": [
            "10 2\n",
            ">\n"
          ]
        }
      ],
      "source": [
        "a, b = map(int, input().split())\n",
        "if a > b : print('>')\n",
        "elif a < b : print('<')\n",
        "else : print('==')"
      ]
    },
    {
      "cell_type": "code",
      "source": [],
      "metadata": {
        "id": "D-47h86g1L1z"
      },
      "execution_count": null,
      "outputs": []
    }
  ]
}