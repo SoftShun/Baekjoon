{
  "nbformat": 4,
  "nbformat_minor": 0,
  "metadata": {
    "colab": {
      "provenance": [],
      "toc_visible": true,
      "authorship_tag": "ABX9TyOBU5yLnGnrnvhaEjS1alGB",
      "include_colab_link": true
    },
    "kernelspec": {
      "name": "python3",
      "display_name": "Python 3"
    },
    "language_info": {
      "name": "python"
    }
  },
  "cells": [
    {
      "cell_type": "markdown",
      "metadata": {
        "id": "view-in-github",
        "colab_type": "text"
      },
      "source": [
        "<a href=\"https://colab.research.google.com/github/SoftShun/Baekjoon/blob/main/level1.ipynb\" target=\"_parent\"><img src=\"https://colab.research.google.com/assets/colab-badge.svg\" alt=\"Open In Colab\"/></a>"
      ]
    },
    {
      "cell_type": "markdown",
      "source": [
        "입출력과 사칙연산\n"
      ],
      "metadata": {
        "id": "9IRwmTWFmdMX"
      }
    },
    {
      "cell_type": "markdown",
      "source": [
        "2557"
      ],
      "metadata": {
        "id": "e7VcX7icmt6k"
      }
    },
    {
      "cell_type": "code",
      "source": [
        "print('Hello World!')"
      ],
      "metadata": {
        "colab": {
          "base_uri": "https://localhost:8080/"
        },
        "id": "ZmnSXBgHmhSR",
        "outputId": "40abe107-77e4-43b6-951b-33392366eee3"
      },
      "execution_count": null,
      "outputs": [
        {
          "output_type": "stream",
          "name": "stdout",
          "text": [
            "Hello World!\n"
          ]
        }
      ]
    },
    {
      "cell_type": "markdown",
      "source": [
        "1000"
      ],
      "metadata": {
        "id": "sq_I76tXmysJ"
      }
    },
    {
      "cell_type": "code",
      "source": [
        "a, b = map(int, input().split())\n",
        "print(a+b)"
      ],
      "metadata": {
        "id": "c0QTiIbpmxfp",
        "colab": {
          "base_uri": "https://localhost:8080/"
        },
        "outputId": "7a6ea40f-9afb-4297-f280-c794f3170798"
      },
      "execution_count": null,
      "outputs": [
        {
          "output_type": "stream",
          "name": "stdout",
          "text": [
            "1 2 \n",
            "3\n"
          ]
        }
      ]
    },
    {
      "cell_type": "markdown",
      "source": [
        "1001"
      ],
      "metadata": {
        "id": "THH0N2JCrQDt"
      }
    },
    {
      "cell_type": "code",
      "source": [
        "a, b = map(int, input().split())\n",
        "print(a-b)"
      ],
      "metadata": {
        "id": "JVB4Yd43oE9E"
      },
      "execution_count": null,
      "outputs": []
    },
    {
      "cell_type": "markdown",
      "source": [
        "10998"
      ],
      "metadata": {
        "id": "3Gzj83mbrQjc"
      }
    },
    {
      "cell_type": "code",
      "source": [
        "a, b = map(int, input().split())\n",
        "print(a*b)"
      ],
      "metadata": {
        "colab": {
          "base_uri": "https://localhost:8080/"
        },
        "id": "AXOW1TUwpEn0",
        "outputId": "306dd995-ff60-4ded-dd8e-0004f7834755"
      },
      "execution_count": null,
      "outputs": [
        {
          "output_type": "stream",
          "name": "stdout",
          "text": [
            "4 5\n",
            "20\n"
          ]
        }
      ]
    },
    {
      "cell_type": "markdown",
      "source": [
        "1008"
      ],
      "metadata": {
        "id": "_1pTlutzrRS5"
      }
    },
    {
      "cell_type": "code",
      "source": [
        "A, B = map(int, input().split())\n",
        "print(A/B)"
      ],
      "metadata": {
        "id": "O1hoLp97pdzL",
        "colab": {
          "base_uri": "https://localhost:8080/"
        },
        "outputId": "7d18ae35-9eb5-4744-998c-77d77c057a5e"
      },
      "execution_count": null,
      "outputs": [
        {
          "output_type": "stream",
          "name": "stdout",
          "text": [
            "4 5\n",
            "0.8\n"
          ]
        }
      ]
    },
    {
      "cell_type": "markdown",
      "source": [
        "10869"
      ],
      "metadata": {
        "id": "fDBNkWIcY3PH"
      }
    },
    {
      "cell_type": "code",
      "source": [
        "A, B = map(int, input().split())\n",
        "print(A+B)\n",
        "print(A-B)\n",
        "print(A*B)\n",
        "print(A//B)\n",
        "print(A%B)"
      ],
      "metadata": {
        "id": "Y9Oa7ZpRXxu5",
        "colab": {
          "base_uri": "https://localhost:8080/"
        },
        "outputId": "3fcdd73c-de6b-4875-cf6d-ea15d6b8fd66"
      },
      "execution_count": null,
      "outputs": [
        {
          "output_type": "stream",
          "name": "stdout",
          "text": [
            "7 3\n",
            "10\n",
            "4\n",
            "21\n",
            "2\n",
            "1\n"
          ]
        }
      ]
    },
    {
      "cell_type": "markdown",
      "source": [
        "10926"
      ],
      "metadata": {
        "id": "ViCOwXyzBYL4"
      }
    },
    {
      "cell_type": "code",
      "source": [
        "id = input()\n",
        "print(f'{id}??!')"
      ],
      "metadata": {
        "id": "o8iCq70pZUAD",
        "colab": {
          "base_uri": "https://localhost:8080/"
        },
        "outputId": "26cd765f-c487-48e8-d490-24398b63d531"
      },
      "execution_count": null,
      "outputs": [
        {
          "output_type": "stream",
          "name": "stdout",
          "text": [
            "junas\n",
            "junas??!\n"
          ]
        }
      ]
    },
    {
      "cell_type": "markdown",
      "source": [
        "18108"
      ],
      "metadata": {
        "id": "_aveWB3KBaPE"
      }
    },
    {
      "cell_type": "code",
      "source": [
        "y = int(input())\n",
        "print(y-543)"
      ],
      "metadata": {
        "colab": {
          "base_uri": "https://localhost:8080/"
        },
        "id": "bMMJR8bGJojU",
        "outputId": "d77045ca-c7a4-417e-ecb5-6812f835d880"
      },
      "execution_count": null,
      "outputs": [
        {
          "output_type": "stream",
          "name": "stdout",
          "text": [
            "2541\n",
            "1998\n"
          ]
        }
      ]
    },
    {
      "cell_type": "markdown",
      "source": [
        "10430"
      ],
      "metadata": {
        "id": "aQSlSr6zKI4C"
      }
    },
    {
      "cell_type": "code",
      "source": [
        "A, B, C = map(int, input().split())\n",
        "\n",
        "print((A+B)%C)\n",
        "print(((A%C)+(B%C))%C)\n",
        "print((A*B)%C)\n",
        "print(((A%C)*(B&C))%C)"
      ],
      "metadata": {
        "colab": {
          "base_uri": "https://localhost:8080/"
        },
        "id": "68A8jz9GKIrm",
        "outputId": "4923b38a-d20e-47c2-ae0d-77a86fc1dc46"
      },
      "execution_count": null,
      "outputs": [
        {
          "output_type": "stream",
          "name": "stdout",
          "text": [
            "5 8 4\n",
            "1\n",
            "1\n",
            "0\n",
            "0\n"
          ]
        }
      ]
    },
    {
      "cell_type": "markdown",
      "source": [
        "2558"
      ],
      "metadata": {
        "id": "0fX4HY-CuGvx"
      }
    },
    {
      "cell_type": "code",
      "source": [
        "a = int(input())\n",
        "b = input()\n",
        "\n",
        "print(a*int(b[2]))\n",
        "print(a*int(b[1]))\n",
        "print(a*int(b[0]))\n",
        "print(a*int(b))"
      ],
      "metadata": {
        "colab": {
          "base_uri": "https://localhost:8080/"
        },
        "id": "73OWfgJDuUFb",
        "outputId": "055e20d7-277e-4341-d1c0-ed3610376d1d"
      },
      "execution_count": null,
      "outputs": [
        {
          "output_type": "stream",
          "name": "stdout",
          "text": [
            "472\n",
            "385\n",
            "2360\n",
            "3776\n",
            "1416\n",
            "181720\n"
          ]
        }
      ]
    },
    {
      "cell_type": "markdown",
      "source": [
        "11382"
      ],
      "metadata": {
        "id": "UUvxQur0yEwc"
      }
    },
    {
      "cell_type": "code",
      "source": [
        "a, b, c = map(int, input().split())\n",
        "\n",
        "print(a+b+c)"
      ],
      "metadata": {
        "colab": {
          "base_uri": "https://localhost:8080/"
        },
        "id": "ICtHJwV6vBqY",
        "outputId": "2ce36cfe-40b0-4ff5-c785-39e2d7e1dd35"
      },
      "execution_count": null,
      "outputs": [
        {
          "output_type": "stream",
          "name": "stdout",
          "text": [
            "7 77 777\n",
            "861\n"
          ]
        }
      ]
    },
    {
      "cell_type": "markdown",
      "source": [
        "10171"
      ],
      "metadata": {
        "id": "QHCi-7-TydGD"
      }
    },
    {
      "cell_type": "code",
      "source": [
        "print(\"\\\\   /\\\\\")\n",
        "print(\" )  ( ')\")\n",
        "print(\"(  /  )\")\n",
        "print(\" \\\\(__)|\")"
      ],
      "metadata": {
        "colab": {
          "base_uri": "https://localhost:8080/"
        },
        "id": "zCYAEJ1nyL9p",
        "outputId": "873ccda9-d061-4b4f-d8d4-d9ac301b3c47"
      },
      "execution_count": null,
      "outputs": [
        {
          "output_type": "stream",
          "name": "stdout",
          "text": [
            "\\   /\\\n",
            " )  ( ')\n",
            "(  /  )\n",
            " \\(__)|\n"
          ]
        }
      ]
    },
    {
      "cell_type": "markdown",
      "source": [
        "10172"
      ],
      "metadata": {
        "id": "Giv6R-0K0XLD"
      }
    },
    {
      "cell_type": "code",
      "source": [
        "print(r'''\\|\\_/|\n",
        "|q p|   /}\n",
        "( 0 )\"\"\"\\\n",
        "|\"^\"`    |\n",
        "||_/=\\\\__|''')\n"
      ],
      "metadata": {
        "colab": {
          "base_uri": "https://localhost:8080/"
        },
        "id": "0uOw4ba2yth0",
        "outputId": "2ffbd317-f9a9-401c-f630-3e7415d4de83"
      },
      "execution_count": null,
      "outputs": [
        {
          "output_type": "stream",
          "name": "stdout",
          "text": [
            "\\|\\_/|\n",
            "|q p|   /}\n",
            "( 0 )\"\"\"\\\n",
            "|\"^\"`    |\n",
            "||_/=\\\\__|\n"
          ]
        }
      ]
    },
    {
      "cell_type": "code",
      "source": [],
      "metadata": {
        "id": "g-vMOpOQ0qKg"
      },
      "execution_count": null,
      "outputs": []
    }
  ]
}